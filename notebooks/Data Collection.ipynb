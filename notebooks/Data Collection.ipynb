{
 "cells": [
  {
   "cell_type": "markdown",
   "id": "physical-spider",
   "metadata": {},
   "source": [
    "# Data Collection"
   ]
  },
  {
   "cell_type": "markdown",
   "id": "proprietary-behalf",
   "metadata": {},
   "source": [
    "<hr>"
   ]
  },
  {
   "cell_type": "markdown",
   "id": "subtle-nerve",
   "metadata": {},
   "source": [
    "Get an understanding of how [this](https://github.com/lmeazzini/youtube-recommender/blob/master/src/data_science/search_data_collection.py) works."
   ]
  },
  {
   "cell_type": "code",
   "execution_count": 1,
   "id": "disturbed-layer",
   "metadata": {},
   "outputs": [],
   "source": [
    "import time\n",
    "import requests\n",
    "import yaml"
   ]
  },
  {
   "cell_type": "markdown",
   "id": "binding-multimedia",
   "metadata": {},
   "source": [
    "This isn't working :("
   ]
  },
  {
   "cell_type": "code",
   "execution_count": 4,
   "id": "strategic-functionality",
   "metadata": {},
   "outputs": [
    {
     "ename": "FileNotFoundError",
     "evalue": "[Errno 2] No such file or directory: '../../pages/folk+rock_1.html'",
     "output_type": "error",
     "traceback": [
      "\u001b[1;31m---------------------------------------------------------------------------\u001b[0m",
      "\u001b[1;31mFileNotFoundError\u001b[0m                         Traceback (most recent call last)",
      "\u001b[1;32m<ipython-input-4-07c430ddeabe>\u001b[0m in \u001b[0;36m<module>\u001b[1;34m\u001b[0m\n\u001b[0;32m     12\u001b[0m         \u001b[0mresponse\u001b[0m \u001b[1;33m=\u001b[0m \u001b[0mrequests\u001b[0m\u001b[1;33m.\u001b[0m\u001b[0mget\u001b[0m\u001b[1;33m(\u001b[0m\u001b[0murl\u001b[0m\u001b[1;33m)\u001b[0m\u001b[1;33m\u001b[0m\u001b[1;33m\u001b[0m\u001b[0m\n\u001b[0;32m     13\u001b[0m \u001b[1;33m\u001b[0m\u001b[0m\n\u001b[1;32m---> 14\u001b[1;33m         with open('../../pages/{}_{}.html'.format(query,\n\u001b[0m\u001b[0;32m     15\u001b[0m                                                   page), 'w+') as output:\n\u001b[0;32m     16\u001b[0m             \u001b[0moutput\u001b[0m\u001b[1;33m.\u001b[0m\u001b[0mwrite\u001b[0m\u001b[1;33m(\u001b[0m\u001b[0mresponse\u001b[0m\u001b[1;33m.\u001b[0m\u001b[0mtext\u001b[0m\u001b[1;33m)\u001b[0m\u001b[1;33m\u001b[0m\u001b[1;33m\u001b[0m\u001b[0m\n",
      "\u001b[1;31mFileNotFoundError\u001b[0m: [Errno 2] No such file or directory: '../../pages/folk+rock_1.html'"
     ]
    }
   ],
   "source": [
    "# open the .yaml file for parameters\n",
    "with open('../parameters.yaml') as f:\n",
    "    params = yaml.load(f, Loader=yaml.FullLoader)\n",
    "\n",
    "# gets the parametesr from the .yaml file\n",
    "queries = params['queries']\n",
    "urls = params['urls']\n",
    "number_of_pages = params['number_of_pages']\n",
    "\n",
    "# Collecting data from youtube pages\n",
    "for query in queries:\n",
    "    for page in range(1, number_of_pages+1):\n",
    "        url = urls.format(query=query, page=page)\n",
    "        response = requests.get(url)\n",
    "\n",
    "        with open('../../pages/{}_{}.html'.format(query,\n",
    "                                                  page), 'w+') as output:\n",
    "            output.write(response.text)\n",
    "\n",
    "        time.sleep(1)"
   ]
  },
  {
   "cell_type": "markdown",
   "id": "interior-justice",
   "metadata": {},
   "source": [
    "<hr>"
   ]
  },
  {
   "cell_type": "markdown",
   "id": "certified-copyright",
   "metadata": {},
   "source": [
    "New tutorial [here](https://www.youtube.com/watch?v=th5_9woFJmk). hehe"
   ]
  },
  {
   "cell_type": "markdown",
   "id": "starting-basement",
   "metadata": {},
   "source": [
    "Load API key from the txt file. (There's probably a better way to do this, but oh well!)"
   ]
  },
  {
   "cell_type": "code",
   "execution_count": 12,
   "id": "palestinian-special",
   "metadata": {},
   "outputs": [],
   "source": [
    "API_KEY = \"\"\n",
    "\n",
    "with open(\"../YouTube API Key.txt\") as f:\n",
    "    for line in f:\n",
    "        API_KEY = line"
   ]
  },
  {
   "cell_type": "markdown",
   "id": "devoted-august",
   "metadata": {},
   "source": [
    "Reference: https://github.com/googleapis/google-api-python-client  \n",
    "Another reference: https://googleapis.github.io/google-api-python-client/docs/dyn/youtube_v3.html"
   ]
  },
  {
   "cell_type": "markdown",
   "id": "academic-picking",
   "metadata": {},
   "source": [
    "Get the YouTube service to let us work with the APIs"
   ]
  },
  {
   "cell_type": "code",
   "execution_count": 14,
   "id": "characteristic-immune",
   "metadata": {},
   "outputs": [],
   "source": [
    "# Allows us to connect to the YouTube API service\n",
    "from googleapiclient.discovery import build\n",
    "\n",
    "# the service\n",
    "youtube_service = build('youtube', 'v3', developerKey=API_KEY)"
   ]
  },
  {
   "cell_type": "markdown",
   "id": "detailed-jacket",
   "metadata": {},
   "source": [
    "Simple API request as a test (from the tutorial video)"
   ]
  },
  {
   "cell_type": "code",
   "execution_count": 17,
   "id": "bearing-lawyer",
   "metadata": {},
   "outputs": [],
   "source": [
    "request = youtube_service.channels().list(\n",
    "            part='statistics',\n",
    "            forUsername='schafer5'\n",
    "        )"
   ]
  },
  {
   "cell_type": "code",
   "execution_count": 18,
   "id": "continent-filename",
   "metadata": {},
   "outputs": [],
   "source": [
    "response = request.execute()"
   ]
  },
  {
   "cell_type": "code",
   "execution_count": 19,
   "id": "intense-explosion",
   "metadata": {},
   "outputs": [
    {
     "name": "stdout",
     "output_type": "stream",
     "text": [
      "{'kind': 'youtube#channelListResponse', 'etag': 'FSKilt7cc1WAD4nQuHlNvtnmCgk', 'pageInfo': {'totalResults': 1, 'resultsPerPage': 5}, 'items': [{'kind': 'youtube#channel', 'etag': 'KO6TDehgfu0tlitTXEyUQbtmR80', 'id': 'UCCezIgC97PvUuR4_gbFUs5g', 'statistics': {'viewCount': '53115672', 'subscriberCount': '728000', 'hiddenSubscriberCount': False, 'videoCount': '230'}}]}\n"
     ]
    }
   ],
   "source": [
    "print(response)"
   ]
  },
  {
   "cell_type": "markdown",
   "id": "beginning-vertical",
   "metadata": {},
   "source": [
    ":)!"
   ]
  },
  {
   "cell_type": "markdown",
   "id": "loaded-ranch",
   "metadata": {},
   "source": [
    "*Now let's figure out how to search for YouTube music videos based on keywords.*"
   ]
  },
  {
   "cell_type": "code",
   "execution_count": null,
   "id": "perfect-submission",
   "metadata": {},
   "outputs": [],
   "source": []
  }
 ],
 "metadata": {
  "kernelspec": {
   "display_name": "Python 3",
   "language": "python",
   "name": "python3"
  },
  "language_info": {
   "codemirror_mode": {
    "name": "ipython",
    "version": 3
   },
   "file_extension": ".py",
   "mimetype": "text/x-python",
   "name": "python",
   "nbconvert_exporter": "python",
   "pygments_lexer": "ipython3",
   "version": "3.8.1"
  }
 },
 "nbformat": 4,
 "nbformat_minor": 5
}
