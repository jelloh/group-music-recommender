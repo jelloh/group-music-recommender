{
 "cells": [
  {
   "cell_type": "markdown",
   "id": "metallic-search",
   "metadata": {},
   "source": [
    "# Data Collection"
   ]
  },
  {
   "cell_type": "markdown",
   "id": "determined-moisture",
   "metadata": {},
   "source": [
    "<hr>"
   ]
  },
  {
   "cell_type": "markdown",
   "id": "stone-geneva",
   "metadata": {},
   "source": [
    "Get an understanding of how [this](https://github.com/lmeazzini/youtube-recommender/blob/master/src/data_science/search_data_collection.py) works."
   ]
  },
  {
   "cell_type": "code",
   "execution_count": 1,
   "id": "married-cookie",
   "metadata": {},
   "outputs": [],
   "source": [
    "import time\n",
    "import requests\n",
    "import yaml"
   ]
  },
  {
   "cell_type": "markdown",
   "id": "expanded-tongue",
   "metadata": {},
   "source": [
    "This isn't working :("
   ]
  },
  {
   "cell_type": "code",
   "execution_count": 4,
   "id": "optical-timer",
   "metadata": {},
   "outputs": [
    {
     "ename": "FileNotFoundError",
     "evalue": "[Errno 2] No such file or directory: '../../pages/folk+rock_1.html'",
     "output_type": "error",
     "traceback": [
      "\u001b[1;31m---------------------------------------------------------------------------\u001b[0m",
      "\u001b[1;31mFileNotFoundError\u001b[0m                         Traceback (most recent call last)",
      "\u001b[1;32m<ipython-input-4-07c430ddeabe>\u001b[0m in \u001b[0;36m<module>\u001b[1;34m\u001b[0m\n\u001b[0;32m     12\u001b[0m         \u001b[0mresponse\u001b[0m \u001b[1;33m=\u001b[0m \u001b[0mrequests\u001b[0m\u001b[1;33m.\u001b[0m\u001b[0mget\u001b[0m\u001b[1;33m(\u001b[0m\u001b[0murl\u001b[0m\u001b[1;33m)\u001b[0m\u001b[1;33m\u001b[0m\u001b[1;33m\u001b[0m\u001b[0m\n\u001b[0;32m     13\u001b[0m \u001b[1;33m\u001b[0m\u001b[0m\n\u001b[1;32m---> 14\u001b[1;33m         with open('../../pages/{}_{}.html'.format(query,\n\u001b[0m\u001b[0;32m     15\u001b[0m                                                   page), 'w+') as output:\n\u001b[0;32m     16\u001b[0m             \u001b[0moutput\u001b[0m\u001b[1;33m.\u001b[0m\u001b[0mwrite\u001b[0m\u001b[1;33m(\u001b[0m\u001b[0mresponse\u001b[0m\u001b[1;33m.\u001b[0m\u001b[0mtext\u001b[0m\u001b[1;33m)\u001b[0m\u001b[1;33m\u001b[0m\u001b[1;33m\u001b[0m\u001b[0m\n",
      "\u001b[1;31mFileNotFoundError\u001b[0m: [Errno 2] No such file or directory: '../../pages/folk+rock_1.html'"
     ]
    }
   ],
   "source": [
    "# open the .yaml file for parameters\n",
    "with open('../parameters.yaml') as f:\n",
    "    params = yaml.load(f, Loader=yaml.FullLoader)\n",
    "\n",
    "# gets the parametesr from the .yaml file\n",
    "queries = params['queries']\n",
    "urls = params['urls']\n",
    "number_of_pages = params['number_of_pages']\n",
    "\n",
    "# Collecting data from youtube pages\n",
    "for query in queries:\n",
    "    for page in range(1, number_of_pages+1):\n",
    "        url = urls.format(query=query, page=page)\n",
    "        response = requests.get(url)\n",
    "\n",
    "        with open('../../pages/{}_{}.html'.format(query,\n",
    "                                                  page), 'w+') as output:\n",
    "            output.write(response.text)\n",
    "\n",
    "        time.sleep(1)"
   ]
  },
  {
   "cell_type": "markdown",
   "id": "certain-photographer",
   "metadata": {},
   "source": [
    "<hr>"
   ]
  },
  {
   "cell_type": "markdown",
   "id": "angry-network",
   "metadata": {},
   "source": [
    "New tutorial [here](https://www.youtube.com/watch?v=th5_9woFJmk). hehe"
   ]
  },
  {
   "cell_type": "markdown",
   "id": "listed-sheriff",
   "metadata": {},
   "source": [
    "Load API key from the txt file. (There's probably a better way to do this, but oh well!)"
   ]
  },
  {
   "cell_type": "code",
   "execution_count": 12,
   "id": "manual-cassette",
   "metadata": {},
   "outputs": [],
   "source": [
    "API_KEY = \"\"\n",
    "\n",
    "with open(\"../YouTube API Key.txt\") as f:\n",
    "    for line in f:\n",
    "        API_KEY = line"
   ]
  },
  {
   "cell_type": "markdown",
   "id": "corrected-coordinator",
   "metadata": {},
   "source": [
    "Reference: https://github.com/googleapis/google-api-python-client  \n",
    "Another reference: https://googleapis.github.io/google-api-python-client/docs/dyn/youtube_v3.html"
   ]
  },
  {
   "cell_type": "markdown",
   "id": "multiple-illinois",
   "metadata": {},
   "source": [
    "Get the YouTube service to let us work with the APIs"
   ]
  },
  {
   "cell_type": "code",
   "execution_count": 14,
   "id": "elegant-duplicate",
   "metadata": {},
   "outputs": [],
   "source": [
    "# Allows us to connect to the YouTube API service\n",
    "from googleapiclient.discovery import build\n",
    "\n",
    "# the service\n",
    "youtube_service = build('youtube', 'v3', developerKey=API_KEY)"
   ]
  },
  {
   "cell_type": "markdown",
   "id": "geographic-thesis",
   "metadata": {},
   "source": [
    "Simple API request as a test (from the tutorial video)"
   ]
  },
  {
   "cell_type": "code",
   "execution_count": 17,
   "id": "drawn-appeal",
   "metadata": {},
   "outputs": [],
   "source": [
    "request = youtube_service.channels().list(\n",
    "            part='statistics',\n",
    "            forUsername='schafer5'\n",
    "        )"
   ]
  },
  {
   "cell_type": "code",
   "execution_count": 18,
   "id": "looking-sustainability",
   "metadata": {},
   "outputs": [],
   "source": [
    "response = request.execute()"
   ]
  },
  {
   "cell_type": "code",
   "execution_count": 19,
   "id": "nonprofit-discount",
   "metadata": {},
   "outputs": [
    {
     "name": "stdout",
     "output_type": "stream",
     "text": [
      "{'kind': 'youtube#channelListResponse', 'etag': 'FSKilt7cc1WAD4nQuHlNvtnmCgk', 'pageInfo': {'totalResults': 1, 'resultsPerPage': 5}, 'items': [{'kind': 'youtube#channel', 'etag': 'KO6TDehgfu0tlitTXEyUQbtmR80', 'id': 'UCCezIgC97PvUuR4_gbFUs5g', 'statistics': {'viewCount': '53115672', 'subscriberCount': '728000', 'hiddenSubscriberCount': False, 'videoCount': '230'}}]}\n"
     ]
    }
   ],
   "source": [
    "print(response)"
   ]
  },
  {
   "cell_type": "markdown",
   "id": "early-governor",
   "metadata": {},
   "source": [
    ":)!"
   ]
  },
  {
   "cell_type": "markdown",
   "id": "motivated-elimination",
   "metadata": {},
   "source": [
    "*Now let's figure out how to search for YouTube music videos based on keywords.*"
   ]
  },
  {
   "cell_type": "code",
   "execution_count": 24,
   "id": "appointed-stretch",
   "metadata": {},
   "outputs": [],
   "source": [
    "search_terms = 'study'\n",
    "MUSIC_CATEGORY_ID = 10"
   ]
  },
  {
   "cell_type": "code",
   "execution_count": 29,
   "id": "unlikely-disco",
   "metadata": {},
   "outputs": [],
   "source": [
    "request = youtube_service.search().list(\n",
    "            part='snippet',\n",
    "            eventType='completed',\n",
    "            maxResults=50,\n",
    "            q=search_terms,\n",
    "            type='video',\n",
    "            videoCategoryId = MUSIC_CATEGORY_ID,\n",
    "            )"
   ]
  },
  {
   "cell_type": "code",
   "execution_count": 30,
   "id": "compressed-thomson",
   "metadata": {},
   "outputs": [],
   "source": [
    "response = request.execute()"
   ]
  },
  {
   "cell_type": "code",
   "execution_count": 31,
   "id": "military-converter",
   "metadata": {},
   "outputs": [
    {
     "name": "stdout",
     "output_type": "stream",
     "text": [
      "{'kind': 'youtube#searchListResponse', 'etag': 'BwnGUr_SZrObwWfSnFpaqdIE8dg', 'nextPageToken': 'CDIQAA', 'regionCode': 'US', 'pageInfo': {'totalResults': 270829, 'resultsPerPage': 50}, 'items': [{'kind': 'youtube#searchResult', 'etag': '344IeJ1euZVCzk89YsSx-8v0zro', 'id': {'kind': 'youtube#video', 'videoId': 'AFqv-dyuDtw'}, 'snippet': {'publishedAt': '2019-08-27T03:51:57Z', 'channelId': 'UCwobzUc3z-0PrFpoRxNszXQ', 'title': 'Study Music, Concentration, Focus, Meditation, Memory, Work Music, Relaxing Music, Study, ☯3596', 'description': 'Study Music, Concentration, Focus, Meditation, Memory, Work Music, Relaxing Music, Study, ☯3596 - Are you looking for studying music, focus music or ...', 'thumbnails': {'default': {'url': 'https://i.ytimg.com/vi/AFqv-dyuDtw/default.jpg', 'width': 120, 'height': 90}, 'medium': {'url': 'https://i.ytimg.com/vi/AFqv-dyuDtw/mqdefault.jpg', 'width': 320, 'height': 180}, 'high': {'url': 'https://i.ytimg.com/vi/AFqv-dyuDtw/hqdefault.jpg', 'width': 480, 'height': 360}}, 'channelTitle': 'Yellow Brick Cinema - Relaxing Music', 'liveBroadcastContent': 'none', 'publishTime': '2019-08-27T03:51:57Z'}}, {'kind': 'youtube#searchResult', 'etag': '9-mK4cAIpWSe6Hz0fNj8BP2FTZI', 'id': {'kind': 'youtube#video', 'videoId': 'Jhq_44IotCM'}, 'snippet': {'publishedAt': '2019-09-09T17:47:12Z', 'channelId': 'UCwobzUc3z-0PrFpoRxNszXQ', 'title': 'Study Music, Work Music, Focus, Concentration, Meditation, Relaxing Music, Calm Music, Study,\\xa0☯3601', 'description': 'Study Music, Work Music, Focus, Concentration, Meditation, Relaxing Music, Calm Music, Study, ☯3601 - Are you looking for studying music, focus music or ...', 'thumbnails': {'default': {'url': 'https://i.ytimg.com/vi/Jhq_44IotCM/default.jpg', 'width': 120, 'height': 90}, 'medium': {'url': 'https://i.ytimg.com/vi/Jhq_44IotCM/mqdefault.jpg', 'width': 320, 'height': 180}, 'high': {'url': 'https://i.ytimg.com/vi/Jhq_44IotCM/hqdefault.jpg', 'width': 480, 'height': 360}}, 'channelTitle': 'Yellow Brick Cinema - Relaxing Music', 'liveBroadcastContent': 'none', 'publishTime': '2019-09-09T17:47:12Z'}}, {'kind': 'youtube#searchResult', 'etag': 'vYPXZUZtWl0Nkv21Ha9eTs6XCFU', 'id': {'kind': 'youtube#video', 'videoId': 'IjWfwkLSKtA'}, 'snippet': {'publishedAt': '2017-03-28T09:35:17Z', 'channelId': 'UC-Q1o43AToT9V6dPTLykEog', 'title': 'Chilled Tide Beats 🎧 Lofi Hip Hop - Study Music', 'description': 'Hey and welcome to our stream. Come listen to some of the best lofi Hip Hop music. Music by Chillhop: http://youtube.com/chillhopdotcom All songs played are ...', 'thumbnails': {'default': {'url': 'https://i.ytimg.com/vi/IjWfwkLSKtA/default.jpg', 'width': 120, 'height': 90}, 'medium': {'url': 'https://i.ytimg.com/vi/IjWfwkLSKtA/mqdefault.jpg', 'width': 320, 'height': 180}, 'high': {'url': 'https://i.ytimg.com/vi/IjWfwkLSKtA/hqdefault.jpg', 'width': 480, 'height': 360}}, 'channelTitle': 'ChilledTideBeats', 'liveBroadcastContent': 'none', 'publishTime': '2017-03-28T09:35:17Z'}}, {'kind': 'youtube#searchResult', 'etag': 'LfZ6AN17XizYnn5sj2vIRgFrNZI', 'id': {'kind': 'youtube#video', 'videoId': 'fmOqGEis9Tw'}, 'snippet': {'publishedAt': '2020-05-21T02:31:36Z', 'channelId': 'UCwobzUc3z-0PrFpoRxNszXQ', 'title': 'Relaxing Flute Music, Calming Music, Music for Studying, Flute Music, Zen, Study Music, Sleep, ☯3698', 'description': 'Relaxing Flute Music, Calming Music, Music for Studying, Flute Music, Zen, Study Music, Sleep, ☯3698 - Do you enjoy the sounds of the flute and instrumental ...', 'thumbnails': {'default': {'url': 'https://i.ytimg.com/vi/fmOqGEis9Tw/default.jpg', 'width': 120, 'height': 90}, 'medium': {'url': 'https://i.ytimg.com/vi/fmOqGEis9Tw/mqdefault.jpg', 'width': 320, 'height': 180}, 'high': {'url': 'https://i.ytimg.com/vi/fmOqGEis9Tw/hqdefault.jpg', 'width': 480, 'height': 360}}, 'channelTitle': 'Yellow Brick Cinema - Relaxing Music', 'liveBroadcastContent': 'none', 'publishTime': '2020-05-21T02:31:36Z'}}, {'kind': 'youtube#searchResult', 'etag': '5bok0FrryvDnThMaOok6eyF46Rg', 'id': {'kind': 'youtube#video', 'videoId': '2CzAB9BNEAc'}, 'snippet': {'publishedAt': '2018-04-19T20:37:00Z', 'channelId': 'UCHroei2AlsJFFf24omE7PHQ', 'title': 'Music to Study, Concentrate and Memorize Fast ☯ Alpha Waves ☯ Relaxing Music', 'description': 'Music to study and concentrate that will help you to memorize increasing intelligence. The best music to work with waves of the sea and alpha waves to get good ...', 'thumbnails': {'default': {'url': 'https://i.ytimg.com/vi/2CzAB9BNEAc/default.jpg', 'width': 120, 'height': 90}, 'medium': {'url': 'https://i.ytimg.com/vi/2CzAB9BNEAc/mqdefault.jpg', 'width': 320, 'height': 180}, 'high': {'url': 'https://i.ytimg.com/vi/2CzAB9BNEAc/hqdefault.jpg', 'width': 480, 'height': 360}}, 'channelTitle': 'Enlightenment Sleep Music', 'liveBroadcastContent': 'none', 'publishTime': '2018-04-19T20:37:00Z'}}, {'kind': 'youtube#searchResult', 'etag': 'oTegl60dwqImRIar1H7-Dit3nFw', 'id': {'kind': 'youtube#video', 'videoId': '2hWyiofjQXQ'}, 'snippet': {'publishedAt': '2019-10-28T16:13:26Z', 'channelId': 'UCwobzUc3z-0PrFpoRxNszXQ', 'title': 'Study Music, Concentration, Focus, Meditation, Memory, Work Music, Relaxing Music, Study, ☯3624', 'description': 'Study Music, Concentration, Focus, Meditation, Memory, Work Music, Relaxing Music, Study, ☯3624 - Are you looking for studying music, focus music or ...', 'thumbnails': {'default': {'url': 'https://i.ytimg.com/vi/2hWyiofjQXQ/default.jpg', 'width': 120, 'height': 90}, 'medium': {'url': 'https://i.ytimg.com/vi/2hWyiofjQXQ/mqdefault.jpg', 'width': 320, 'height': 180}, 'high': {'url': 'https://i.ytimg.com/vi/2hWyiofjQXQ/hqdefault.jpg', 'width': 480, 'height': 360}}, 'channelTitle': 'Yellow Brick Cinema - Relaxing Music', 'liveBroadcastContent': 'none', 'publishTime': '2019-10-28T16:13:26Z'}}, {'kind': 'youtube#searchResult', 'etag': 'efwidsWZS0JSUh9dKii7XxAF-rw', 'id': {'kind': 'youtube#video', 'videoId': '77YwsoKsNV8'}, 'snippet': {'publishedAt': '2019-06-10T15:16:53Z', 'channelId': 'UCwobzUc3z-0PrFpoRxNszXQ', 'title': 'Relaxing Guitar Music, Calming Music, Relaxation Music, Guitar Music, Sleep Music, Study Music ☯3562', 'description': \"Relaxing Guitar Music, Calming Music, Relaxation Music, Guitar Music, Sleep Music, Study Music ☯3562 - Yellow Brick Cinema's relaxing guitar music videos ...\", 'thumbnails': {'default': {'url': 'https://i.ytimg.com/vi/77YwsoKsNV8/default.jpg', 'width': 120, 'height': 90}, 'medium': {'url': 'https://i.ytimg.com/vi/77YwsoKsNV8/mqdefault.jpg', 'width': 320, 'height': 180}, 'high': {'url': 'https://i.ytimg.com/vi/77YwsoKsNV8/hqdefault.jpg', 'width': 480, 'height': 360}}, 'channelTitle': 'Yellow Brick Cinema - Relaxing Music', 'liveBroadcastContent': 'none', 'publishTime': '2019-06-10T15:16:53Z'}}, {'kind': 'youtube#searchResult', 'etag': '3wXVdmnjEq2mpz-ZzfnF88sW9uc', 'id': {'kind': 'youtube#video', 'videoId': 'XdDrv-8ZfwY'}, 'snippet': {'publishedAt': '2017-03-23T17:55:05Z', 'channelId': 'UCHroG_nEUrM914JH7pi-wag', 'title': 'Chillhop Beats! - Study/Chill/Work Music! [Spotify playlist]', 'description': \"Enjoy and share. Don't forget to check out my other videos ;) A Spotify playlist. Follow and share it!\", 'thumbnails': {'default': {'url': 'https://i.ytimg.com/vi/XdDrv-8ZfwY/default.jpg', 'width': 120, 'height': 90}, 'medium': {'url': 'https://i.ytimg.com/vi/XdDrv-8ZfwY/mqdefault.jpg', 'width': 320, 'height': 180}, 'high': {'url': 'https://i.ytimg.com/vi/XdDrv-8ZfwY/hqdefault.jpg', 'width': 480, 'height': 360}}, 'channelTitle': 'Ed Rantsan', 'liveBroadcastContent': 'none', 'publishTime': '2017-03-23T17:55:05Z'}}, {'kind': 'youtube#searchResult', 'etag': '0TckmiVdQ1nF5NDLIVfBDDza_tQ', 'id': {'kind': 'youtube#video', 'videoId': 'Zh5vptlzKmY'}, 'snippet': {'publishedAt': '2020-12-16T14:55:03Z', 'channelId': 'UCwobzUc3z-0PrFpoRxNszXQ', 'title': 'Relaxing Sleep Music, Calm Music, Yoga, Sleep Meditation, Insomnia, Spa, Study Music, Sleep, ☯3729', 'description': 'Relaxing Sleep Music, Calm Music, Yoga, Sleep Meditation, Insomnia, Spa, Study Music, Sleep, ☯3729 – Yellow Brick Cinema specializes in providing relaxing ...', 'thumbnails': {'default': {'url': 'https://i.ytimg.com/vi/Zh5vptlzKmY/default.jpg', 'width': 120, 'height': 90}, 'medium': {'url': 'https://i.ytimg.com/vi/Zh5vptlzKmY/mqdefault.jpg', 'width': 320, 'height': 180}, 'high': {'url': 'https://i.ytimg.com/vi/Zh5vptlzKmY/hqdefault.jpg', 'width': 480, 'height': 360}}, 'channelTitle': 'Yellow Brick Cinema - Relaxing Music', 'liveBroadcastContent': 'none', 'publishTime': '2020-12-16T14:55:03Z'}}, {'kind': 'youtube#searchResult', 'etag': 'D5LxfNwzO1vEgmi38vG7Gp1-9Ss', 'id': {'kind': 'youtube#video', 'videoId': 'NQXMNzW-wu4'}, 'snippet': {'publishedAt': '2021-01-18T15:51:26Z', 'channelId': 'UCwobzUc3z-0PrFpoRxNszXQ', 'title': 'Sleep Music, Healing Music, Calming Music, Sleeping Music, Meditation, Study Music, Sleep, ☯3732', 'description': 'Sleep Music, Healing Music, Calming Music, Sleeping Music, Meditation, Study Music, Sleep, ☯3732 – Yellow Brick Cinema specializes in providing sleeping ...', 'thumbnails': {'default': {'url': 'https://i.ytimg.com/vi/NQXMNzW-wu4/default.jpg', 'width': 120, 'height': 90}, 'medium': {'url': 'https://i.ytimg.com/vi/NQXMNzW-wu4/mqdefault.jpg', 'width': 320, 'height': 180}, 'high': {'url': 'https://i.ytimg.com/vi/NQXMNzW-wu4/hqdefault.jpg', 'width': 480, 'height': 360}}, 'channelTitle': 'Yellow Brick Cinema - Relaxing Music', 'liveBroadcastContent': 'none', 'publishTime': '2021-01-18T15:51:26Z'}}, {'kind': 'youtube#searchResult', 'etag': 'RGf9CmDTec7lj8KlY4BHPLL5m20', 'id': {'kind': 'youtube#video', 'videoId': 'kCwxW7VH5mc'}, 'snippet': {'publishedAt': '2020-02-17T18:49:27Z', 'channelId': 'UCwobzUc3z-0PrFpoRxNszXQ', 'title': 'Study Music, Concentration, Focus, Meditation, Memory, Work Music, Relaxing Music, Zen, Study,\\xa0☯3655', 'description': 'Study Music, Concentration, Focus, Meditation, Memory, Work Music, Relaxing Music, Zen, Study, ☯3655 - Are you looking for studying music, focus music or ...', 'thumbnails': {'default': {'url': 'https://i.ytimg.com/vi/kCwxW7VH5mc/default.jpg', 'width': 120, 'height': 90}, 'medium': {'url': 'https://i.ytimg.com/vi/kCwxW7VH5mc/mqdefault.jpg', 'width': 320, 'height': 180}, 'high': {'url': 'https://i.ytimg.com/vi/kCwxW7VH5mc/hqdefault.jpg', 'width': 480, 'height': 360}}, 'channelTitle': 'Yellow Brick Cinema - Relaxing Music', 'liveBroadcastContent': 'none', 'publishTime': '2020-02-17T18:49:27Z'}}, {'kind': 'youtube#searchResult', 'etag': 'lUttiIbs8NSraCFcinDAFoLGK38', 'id': {'kind': 'youtube#video', 'videoId': 'xvj6IvhQSgE'}, 'snippet': {'publishedAt': '2020-10-24T15:24:39Z', 'channelId': 'UCwobzUc3z-0PrFpoRxNszXQ', 'title': 'Deep Sleep Music, Insomnia, Meditation Music, Sleeping Music, Yoga, Zen, Study Music, Sleep, ☯3722', 'description': 'Deep Sleep Music, Insomnia, Meditation Music, Sleeping Music, Yoga, Zen, Study Music, Sleep, ☯3722 – Yellow Brick Cinema specializes in providing relaxing ...', 'thumbnails': {'default': {'url': 'https://i.ytimg.com/vi/xvj6IvhQSgE/default.jpg', 'width': 120, 'height': 90}, 'medium': {'url': 'https://i.ytimg.com/vi/xvj6IvhQSgE/mqdefault.jpg', 'width': 320, 'height': 180}, 'high': {'url': 'https://i.ytimg.com/vi/xvj6IvhQSgE/hqdefault.jpg', 'width': 480, 'height': 360}}, 'channelTitle': 'Yellow Brick Cinema - Relaxing Music', 'liveBroadcastContent': 'none', 'publishTime': '2020-10-24T15:24:39Z'}}, {'kind': 'youtube#searchResult', 'etag': 'tWRwuYhKYZHh_l8tMLggO7ZnuFk', 'id': {'kind': 'youtube#video', 'videoId': 'qf3W5ohfloo'}, 'snippet': {'publishedAt': '2019-05-21T04:10:54Z', 'channelId': 'UCHroei2AlsJFFf24omE7PHQ', 'title': 'Study Music Alpha Waves 8D: Relaxing Studying music 8D, Focus Concentration music 8D', 'description': 'Study Music Alpha Waves 8D: Relaxing Studying music 8D, Focus Concentration music 8D. Good study songs 2019. Best relaxation music 8d. ▻For more ...', 'thumbnails': {'default': {'url': 'https://i.ytimg.com/vi/qf3W5ohfloo/default.jpg', 'width': 120, 'height': 90}, 'medium': {'url': 'https://i.ytimg.com/vi/qf3W5ohfloo/mqdefault.jpg', 'width': 320, 'height': 180}, 'high': {'url': 'https://i.ytimg.com/vi/qf3W5ohfloo/hqdefault.jpg', 'width': 480, 'height': 360}}, 'channelTitle': 'Enlightenment Sleep Music', 'liveBroadcastContent': 'none', 'publishTime': '2019-05-21T04:10:54Z'}}, {'kind': 'youtube#searchResult', 'etag': 'EpkEVV5OrDOhhiwNfoW5XHUh_qc', 'id': {'kind': 'youtube#video', 'videoId': 'fPV90bBtBqQ'}, 'snippet': {'publishedAt': '2018-01-17T20:47:39Z', 'channelId': 'UCNJFXYXkXt_P8bJUxb21MpA', 'title': 'Dr SaxLove&#39;s Smooth Blue 10 Hour Video - Instrumental Music for Work, Study, and Relaxation', 'description': \"This week we are playing a mix of Dr. SaxLove's Smooth Jazz Blues; Saxomonica and Smooth Blues. Playing Now : Blues Mix from the albums Saxmonica and ...\", 'thumbnails': {'default': {'url': 'https://i.ytimg.com/vi/fPV90bBtBqQ/default.jpg', 'width': 120, 'height': 90}, 'medium': {'url': 'https://i.ytimg.com/vi/fPV90bBtBqQ/mqdefault.jpg', 'width': 320, 'height': 180}, 'high': {'url': 'https://i.ytimg.com/vi/fPV90bBtBqQ/hqdefault.jpg', 'width': 480, 'height': 360}}, 'channelTitle': 'Dr. SaxLove', 'liveBroadcastContent': 'none', 'publishTime': '2018-01-17T20:47:39Z'}}, {'kind': 'youtube#searchResult', 'etag': 'jCE-tDmpmE2gtTneGVNy96UQe4Q', 'id': {'kind': 'youtube#video', 'videoId': '6obKeeH7cQc'}, 'snippet': {'publishedAt': '2019-07-01T17:27:14Z', 'channelId': 'UCwobzUc3z-0PrFpoRxNszXQ', 'title': 'Relaxing Piano Music, Relaxing Music, Meditation, Piano Music, Sleep Music, Piano, Study, Calm ☯3570', 'description': 'Relaxing Piano Music, Relaxing Music, Meditation, Piano Music, Sleep Music, Piano, Study, Calm ☯3570 - Are you looking for beautiful piano music to beat ...', 'thumbnails': {'default': {'url': 'https://i.ytimg.com/vi/6obKeeH7cQc/default.jpg', 'width': 120, 'height': 90}, 'medium': {'url': 'https://i.ytimg.com/vi/6obKeeH7cQc/mqdefault.jpg', 'width': 320, 'height': 180}, 'high': {'url': 'https://i.ytimg.com/vi/6obKeeH7cQc/hqdefault.jpg', 'width': 480, 'height': 360}}, 'channelTitle': 'Yellow Brick Cinema - Relaxing Music', 'liveBroadcastContent': 'none', 'publishTime': '2019-07-01T17:27:14Z'}}, {'kind': 'youtube#searchResult', 'etag': 't17qFJukt-LwDyx2l775JyBrtgE', 'id': {'kind': 'youtube#video', 'videoId': 'qY4uZy3HbOY'}, 'snippet': {'publishedAt': '2021-02-23T23:48:11Z', 'channelId': 'UCPSzPkrKKC-bWfbgeIuQ4LA', 'title': '🗻 Beautiful Relaxing Music, Peaceful Soothing Instrumental Music - Meditation Study  Sleep Music #21', 'description': 'Relaxing Piano Music for Stress Relief - Piano For Sleep - Bedtime Music - Reading Music - Insomnia Music - Yoga Meditation Music - Sleeping Music For Deep ...', 'thumbnails': {'default': {'url': 'https://i.ytimg.com/vi/qY4uZy3HbOY/default.jpg', 'width': 120, 'height': 90}, 'medium': {'url': 'https://i.ytimg.com/vi/qY4uZy3HbOY/mqdefault.jpg', 'width': 320, 'height': 180}, 'high': {'url': 'https://i.ytimg.com/vi/qY4uZy3HbOY/hqdefault.jpg', 'width': 480, 'height': 360}}, 'channelTitle': 'Relaxation VA Soothing', 'liveBroadcastContent': 'none', 'publishTime': '2021-02-23T23:48:11Z'}}, {'kind': 'youtube#searchResult', 'etag': 'Ou_mP2khNcDHKaE8KhbgsUTjmiY', 'id': {'kind': 'youtube#video', 'videoId': 'tUCs-Gdc63M'}, 'snippet': {'publishedAt': '2021-01-08T14:08:22Z', 'channelId': 'UC1bjWVLp2aaJmPcNbi9OOsw', 'title': 'Super Intelligence - Binaural Beats Focus Music for Better Concentration, Study Music', 'description': 'Super Intelligence - Binaural Beats Focus Music for Better Concentration, Study Music. -------------------------------------------------------------------------------------- Memory ...', 'thumbnails': {'default': {'url': 'https://i.ytimg.com/vi/tUCs-Gdc63M/default.jpg', 'width': 120, 'height': 90}, 'medium': {'url': 'https://i.ytimg.com/vi/tUCs-Gdc63M/mqdefault.jpg', 'width': 320, 'height': 180}, 'high': {'url': 'https://i.ytimg.com/vi/tUCs-Gdc63M/hqdefault.jpg', 'width': 480, 'height': 360}}, 'channelTitle': 'Greenred Productions - Relaxing Music', 'liveBroadcastContent': 'none', 'publishTime': '2021-01-08T14:08:22Z'}}, {'kind': 'youtube#searchResult', 'etag': 'oBGyTNKsjSKNUIPwz7fbpyYHaxg', 'id': {'kind': 'youtube#video', 'videoId': 'GNsQkr_C4EQ'}, 'snippet': {'publishedAt': '2020-05-28T16:19:39Z', 'channelId': 'UCmQK52xYtdeg7EYiQhqEeZA', 'title': 'Relaxing Music, Meditation Music, Healing Music, Yoga, Sleep Music, Study Music, Sleep, Relax, ☯2027', 'description': \"Relaxing Music, Meditation Music, Healing Music, Yoga, Sleep Music, Study Music, Sleep, Relax, ☯2027 - Body Mind Zone's relaxing music, sleeping music, ...\", 'thumbnails': {'default': {'url': 'https://i.ytimg.com/vi/GNsQkr_C4EQ/default.jpg', 'width': 120, 'height': 90}, 'medium': {'url': 'https://i.ytimg.com/vi/GNsQkr_C4EQ/mqdefault.jpg', 'width': 320, 'height': 180}, 'high': {'url': 'https://i.ytimg.com/vi/GNsQkr_C4EQ/hqdefault.jpg', 'width': 480, 'height': 360}}, 'channelTitle': 'Body Mind Zone', 'liveBroadcastContent': 'none', 'publishTime': '2020-05-28T16:19:39Z'}}, {'kind': 'youtube#searchResult', 'etag': 'AcTeendCXmkP22KXwZqFtf3NBN0', 'id': {'kind': 'youtube#video', 'videoId': 'bFgpTDKj7eM'}, 'snippet': {'publishedAt': '2020-05-12T04:33:40Z', 'channelId': 'UCwobzUc3z-0PrFpoRxNszXQ', 'title': 'Study Music, Concentration Music, Focus Music, Meditation, Relax Music, Alpha Waves, Study, ☯3696', 'description': 'Study Music, Concentration Music, Focus Music, Meditation, Relax Music, Alpha Waves, Study, ☯3696 - Are you looking for studying music, focus music or ...', 'thumbnails': {'default': {'url': 'https://i.ytimg.com/vi/bFgpTDKj7eM/default.jpg', 'width': 120, 'height': 90}, 'medium': {'url': 'https://i.ytimg.com/vi/bFgpTDKj7eM/mqdefault.jpg', 'width': 320, 'height': 180}, 'high': {'url': 'https://i.ytimg.com/vi/bFgpTDKj7eM/hqdefault.jpg', 'width': 480, 'height': 360}}, 'channelTitle': 'Yellow Brick Cinema - Relaxing Music', 'liveBroadcastContent': 'none', 'publishTime': '2020-05-12T04:33:40Z'}}, {'kind': 'youtube#searchResult', 'etag': 'Oy_ZaJH1qQcKw84Z7ouRPf4x5-E', 'id': {'kind': 'youtube#video', 'videoId': 'zj0dyMwZ68c'}, 'snippet': {'publishedAt': '2021-03-01T11:58:01Z', 'channelId': 'UCwobzUc3z-0PrFpoRxNszXQ', 'title': 'This live stream has ended. We will release a new version of this live stream soon. See link below', 'description': 'An updated version of this live stream will be released shortly. To view this or our other live streams, click the link below.', 'thumbnails': {'default': {'url': 'https://i.ytimg.com/vi/zj0dyMwZ68c/default.jpg', 'width': 120, 'height': 90}, 'medium': {'url': 'https://i.ytimg.com/vi/zj0dyMwZ68c/mqdefault.jpg', 'width': 320, 'height': 180}, 'high': {'url': 'https://i.ytimg.com/vi/zj0dyMwZ68c/hqdefault.jpg', 'width': 480, 'height': 360}}, 'channelTitle': 'Yellow Brick Cinema - Relaxing Music', 'liveBroadcastContent': 'none', 'publishTime': '2021-03-01T11:58:01Z'}}, {'kind': 'youtube#searchResult', 'etag': 'sxJNBfEOclP-Sy7ACTBevXV3ViQ', 'id': {'kind': 'youtube#video', 'videoId': 'IF7UIruuBuU'}, 'snippet': {'publishedAt': '2020-10-13T11:37:03Z', 'channelId': 'UC1bjWVLp2aaJmPcNbi9OOsw', 'title': 'Super Intelligence - Deep Focus Music with Binaural Beats, Study Music', 'description': 'Super Intelligence - Deep Focus Music with Binaural Beats, Study Music. -------------------------------------------------------------------------------------- Memory Music: ...', 'thumbnails': {'default': {'url': 'https://i.ytimg.com/vi/IF7UIruuBuU/default.jpg', 'width': 120, 'height': 90}, 'medium': {'url': 'https://i.ytimg.com/vi/IF7UIruuBuU/mqdefault.jpg', 'width': 320, 'height': 180}, 'high': {'url': 'https://i.ytimg.com/vi/IF7UIruuBuU/hqdefault.jpg', 'width': 480, 'height': 360}}, 'channelTitle': 'Greenred Productions - Relaxing Music', 'liveBroadcastContent': 'none', 'publishTime': '2020-10-13T11:37:03Z'}}, {'kind': 'youtube#searchResult', 'etag': 'qQjKrt6hJ2hmFbfdQt4n9EJ6pQU', 'id': {'kind': 'youtube#video', 'videoId': 'sOG6xAhI4lA'}, 'snippet': {'publishedAt': '2020-11-05T04:51:57Z', 'channelId': 'UCwobzUc3z-0PrFpoRxNszXQ', 'title': 'Relaxing Music, Healing Music, Spa Music, Meditation Music, Sleep, Yoga, Study Music, Zen, ☯3724', 'description': 'Relaxing Music, Healing Music, Spa Music, Meditation Music, Sleep, Yoga, Study Music, Zen, ☯3724 – Are you into meditation, just looking to relax or hoping to ...', 'thumbnails': {'default': {'url': 'https://i.ytimg.com/vi/sOG6xAhI4lA/default.jpg', 'width': 120, 'height': 90}, 'medium': {'url': 'https://i.ytimg.com/vi/sOG6xAhI4lA/mqdefault.jpg', 'width': 320, 'height': 180}, 'high': {'url': 'https://i.ytimg.com/vi/sOG6xAhI4lA/hqdefault.jpg', 'width': 480, 'height': 360}}, 'channelTitle': 'Yellow Brick Cinema - Relaxing Music', 'liveBroadcastContent': 'none', 'publishTime': '2020-11-05T04:51:57Z'}}, {'kind': 'youtube#searchResult', 'etag': 'MujvYgN5sxYUOAA4YpKyVw33aMg', 'id': {'kind': 'youtube#video', 'videoId': 'jFwPLr7kOCI'}, 'snippet': {'publishedAt': '2020-11-25T00:44:30Z', 'channelId': 'UC7bX_RrH3zbdp5V4j5umGgw', 'title': 'Work and Study JAZZ - Gentle Piano JAZZ For Focus and Concentrate: Background Work Music', 'description': 'Our Jazz Instrumental Music can be used for relaxing, calm, romantic dinner, cooking, work, and relaxation. This relaxing Jazz music best suited for study, work, ...', 'thumbnails': {'default': {'url': 'https://i.ytimg.com/vi/jFwPLr7kOCI/default.jpg', 'width': 120, 'height': 90}, 'medium': {'url': 'https://i.ytimg.com/vi/jFwPLr7kOCI/mqdefault.jpg', 'width': 320, 'height': 180}, 'high': {'url': 'https://i.ytimg.com/vi/jFwPLr7kOCI/hqdefault.jpg', 'width': 480, 'height': 360}}, 'channelTitle': 'Relax Music', 'liveBroadcastContent': 'none', 'publishTime': '2020-11-25T00:44:30Z'}}, {'kind': 'youtube#searchResult', 'etag': 'F48Ha2OI95PzDVhDcmagu8fo2d4', 'id': {'kind': 'youtube#video', 'videoId': 'B2ZrqeRCNR8'}, 'snippet': {'publishedAt': '2017-11-17T23:31:15Z', 'channelId': 'UC50NhcoUl7RH5Z7rYCvWsTQ', 'title': 'lofi music study 24/7 - after school hangout/ homework/ final exam/ focus', 'description': '', 'thumbnails': {'default': {'url': 'https://i.ytimg.com/vi/B2ZrqeRCNR8/default.jpg', 'width': 120, 'height': 90}, 'medium': {'url': 'https://i.ytimg.com/vi/B2ZrqeRCNR8/mqdefault.jpg', 'width': 320, 'height': 180}, 'high': {'url': 'https://i.ytimg.com/vi/B2ZrqeRCNR8/hqdefault.jpg', 'width': 480, 'height': 360}}, 'channelTitle': 'Study crown', 'liveBroadcastContent': 'none', 'publishTime': '2017-11-17T23:31:15Z'}}, {'kind': 'youtube#searchResult', 'etag': '_HDMVIIXE7arSsBYZ7Z_KooF5PY', 'id': {'kind': 'youtube#video', 'videoId': 'sJ3WLBnxvzk'}, 'snippet': {'publishedAt': '2020-06-30T12:13:45Z', 'channelId': 'UCQINXHZqCU5i06HzxRkujfg', 'title': 'Tuesday Guitar: Smooth Chill Music Mood - Background Guitar for Study, Work, Relax and Rest', 'description': 'New Release 〜 Streaming Service & Buy Music 〜 If you listen to this music on Streaming Services, please use Shazam to find out if the music has been ...', 'thumbnails': {'default': {'url': 'https://i.ytimg.com/vi/sJ3WLBnxvzk/default.jpg', 'width': 120, 'height': 90}, 'medium': {'url': 'https://i.ytimg.com/vi/sJ3WLBnxvzk/mqdefault.jpg', 'width': 320, 'height': 180}, 'high': {'url': 'https://i.ytimg.com/vi/sJ3WLBnxvzk/hqdefault.jpg', 'width': 480, 'height': 360}}, 'channelTitle': 'BGM channel', 'liveBroadcastContent': 'none', 'publishTime': '2020-06-30T12:13:45Z'}}, {'kind': 'youtube#searchResult', 'etag': 'XjuE3lKD-4qW3v7eJBZYCcafpuY', 'id': {'kind': 'youtube#video', 'videoId': '0kq20_7bJTo'}, 'snippet': {'publishedAt': '2020-10-11T10:28:45Z', 'channelId': 'UCOVcAiUMS7RZ6RVUcrwAYXA', 'title': 'LIVE Oldies playing in another room - relax/chill/study/sleeping', 'description': 'LIVE Oldies playing in another room - relax/chill/study/sleeping - Best if you listen with your SUBSCRIBE TO THIS CHANNEL https://bit.ly/2FQ2ct4 If you like ...', 'thumbnails': {'default': {'url': 'https://i.ytimg.com/vi/0kq20_7bJTo/default.jpg', 'width': 120, 'height': 90}, 'medium': {'url': 'https://i.ytimg.com/vi/0kq20_7bJTo/mqdefault.jpg', 'width': 320, 'height': 180}, 'high': {'url': 'https://i.ytimg.com/vi/0kq20_7bJTo/hqdefault.jpg', 'width': 480, 'height': 360}}, 'channelTitle': \"Nemo's Dreamscapes\", 'liveBroadcastContent': 'none', 'publishTime': '2020-10-11T10:28:45Z'}}, {'kind': 'youtube#searchResult', 'etag': 'hK4FmP1mvo7mQtDsV__VXkJ2L3A', 'id': {'kind': 'youtube#video', 'videoId': 'HfUJC4R9his'}, 'snippet': {'publishedAt': '2020-10-28T14:36:36Z', 'channelId': 'UCwobzUc3z-0PrFpoRxNszXQ', 'title': 'Relaxing Sleep Music, Meditation Music, Deep Sleep Music, Calm Music, Study, Sleeping Music, ☯3723', 'description': 'Relaxing Sleep Music, Meditation Music, Deep Sleep Music, Calm Music, Study, Sleeping Music, ☯3723 – Yellow Brick Cinema specializes in providing relaxing ...', 'thumbnails': {'default': {'url': 'https://i.ytimg.com/vi/HfUJC4R9his/default.jpg', 'width': 120, 'height': 90}, 'medium': {'url': 'https://i.ytimg.com/vi/HfUJC4R9his/mqdefault.jpg', 'width': 320, 'height': 180}, 'high': {'url': 'https://i.ytimg.com/vi/HfUJC4R9his/hqdefault.jpg', 'width': 480, 'height': 360}}, 'channelTitle': 'Yellow Brick Cinema - Relaxing Music', 'liveBroadcastContent': 'none', 'publishTime': '2020-10-28T14:36:36Z'}}, {'kind': 'youtube#searchResult', 'etag': '4-zNYEbcoEvzwSo7fQZ4m_NNiIQ', 'id': {'kind': 'youtube#video', 'videoId': 'mXdoMvHcTlE'}, 'snippet': {'publishedAt': '2020-09-22T00:44:39Z', 'channelId': 'UCwobzUc3z-0PrFpoRxNszXQ', 'title': 'Relaxing Music, Healing Music, Spa Music, Meditation Music, Zen, Sleep, Study Music, Yoga, ☯3718', 'description': 'Relaxing Music, Healing Music, Spa Music, Meditation Music, Zen, Sleep, Study Music, Yoga, ☯3718 – Are you into meditation, just looking to relax or hoping to ...', 'thumbnails': {'default': {'url': 'https://i.ytimg.com/vi/mXdoMvHcTlE/default.jpg', 'width': 120, 'height': 90}, 'medium': {'url': 'https://i.ytimg.com/vi/mXdoMvHcTlE/mqdefault.jpg', 'width': 320, 'height': 180}, 'high': {'url': 'https://i.ytimg.com/vi/mXdoMvHcTlE/hqdefault.jpg', 'width': 480, 'height': 360}}, 'channelTitle': 'Yellow Brick Cinema - Relaxing Music', 'liveBroadcastContent': 'none', 'publishTime': '2020-09-22T00:44:39Z'}}, {'kind': 'youtube#searchResult', 'etag': 'Xo3uTZZ5AuJDJEDx62wJuhT1v4Y', 'id': {'kind': 'youtube#video', 'videoId': 'M5rxnfn7C1c'}, 'snippet': {'publishedAt': '2019-09-13T17:00:16Z', 'channelId': 'UCwobzUc3z-0PrFpoRxNszXQ', 'title': 'Tibetan Meditation Music, Relaxing Music, Healing Music, Chakra, Yoga, Sleep, Spa, Study,\\xa0☯3604', 'description': 'Tibetan Meditation Music, Relaxing Music, Healing Music, Chakra, Yoga, Sleep, Spa, Study, ☯3604 - Does the sound of healing Tibetan music and Tibetan Flute ...', 'thumbnails': {'default': {'url': 'https://i.ytimg.com/vi/M5rxnfn7C1c/default.jpg', 'width': 120, 'height': 90}, 'medium': {'url': 'https://i.ytimg.com/vi/M5rxnfn7C1c/mqdefault.jpg', 'width': 320, 'height': 180}, 'high': {'url': 'https://i.ytimg.com/vi/M5rxnfn7C1c/hqdefault.jpg', 'width': 480, 'height': 360}}, 'channelTitle': 'Yellow Brick Cinema - Relaxing Music', 'liveBroadcastContent': 'none', 'publishTime': '2019-09-13T17:00:16Z'}}, {'kind': 'youtube#searchResult', 'etag': 'JArQedKllepAB2I2biZbWNK5WN8', 'id': {'kind': 'youtube#video', 'videoId': 'OQCUNqECJuk'}, 'snippet': {'publishedAt': '2020-06-07T15:57:38Z', 'channelId': 'UCwobzUc3z-0PrFpoRxNszXQ', 'title': 'Sleep Music for Quarantine, Sleep Meditation, Calming Music, Meditation, Study Music, Sleep, ☯3704', 'description': 'Sleep Music for Quarantine, Sleep Meditation, Calming Music, Meditation, Study Music, Sleep, ☯3704 - Yellow Brick Cinema specialises in providing sleeping ...', 'thumbnails': {'default': {'url': 'https://i.ytimg.com/vi/OQCUNqECJuk/default.jpg', 'width': 120, 'height': 90}, 'medium': {'url': 'https://i.ytimg.com/vi/OQCUNqECJuk/mqdefault.jpg', 'width': 320, 'height': 180}, 'high': {'url': 'https://i.ytimg.com/vi/OQCUNqECJuk/hqdefault.jpg', 'width': 480, 'height': 360}}, 'channelTitle': 'Yellow Brick Cinema - Relaxing Music', 'liveBroadcastContent': 'none', 'publishTime': '2020-06-07T15:57:38Z'}}, {'kind': 'youtube#searchResult', 'etag': 'R0t7IdpJgc_ToG5QyLcHkUnno8Q', 'id': {'kind': 'youtube#video', 'videoId': 'TCBhiCjdlaE'}, 'snippet': {'publishedAt': '2020-05-04T16:14:31Z', 'channelId': 'UCwobzUc3z-0PrFpoRxNszXQ', 'title': 'Deep Sleep Music 24/7, Calm Music, Sleeping Music, Meditation Music, Study Music, Sleep Music, ☯3691', 'description': 'Deep Sleep Music 24/7, Calm Music, Sleeping Music, Meditation Music, Study Music, Sleep Music, ☯3691 - Yellow Brick Cinema specialises in providing ...', 'thumbnails': {'default': {'url': 'https://i.ytimg.com/vi/TCBhiCjdlaE/default.jpg', 'width': 120, 'height': 90}, 'medium': {'url': 'https://i.ytimg.com/vi/TCBhiCjdlaE/mqdefault.jpg', 'width': 320, 'height': 180}, 'high': {'url': 'https://i.ytimg.com/vi/TCBhiCjdlaE/hqdefault.jpg', 'width': 480, 'height': 360}}, 'channelTitle': 'Yellow Brick Cinema - Relaxing Music', 'liveBroadcastContent': 'none', 'publishTime': '2020-05-04T16:14:31Z'}}, {'kind': 'youtube#searchResult', 'etag': 'ZpVDZfyf8IoiLxjbkrT4f6ON2RI', 'id': {'kind': 'youtube#video', 'videoId': 'FgnT7lqO9GM'}, 'snippet': {'publishedAt': '2020-11-12T00:00:11Z', 'channelId': 'UC7bX_RrH3zbdp5V4j5umGgw', 'title': 'Cozy Wednesday JAZZ - Warm Relaxing Bossa Nova JAZZ For Work, Study, Reading', 'description': 'Our Jazz Instrumental Music can be used for relaxing, calm, romantic dinner, cooking, work, and relaxation. This relaxing Jazz music best suited for study, work, ...', 'thumbnails': {'default': {'url': 'https://i.ytimg.com/vi/FgnT7lqO9GM/default.jpg', 'width': 120, 'height': 90}, 'medium': {'url': 'https://i.ytimg.com/vi/FgnT7lqO9GM/mqdefault.jpg', 'width': 320, 'height': 180}, 'high': {'url': 'https://i.ytimg.com/vi/FgnT7lqO9GM/hqdefault.jpg', 'width': 480, 'height': 360}}, 'channelTitle': 'Relax Music', 'liveBroadcastContent': 'none', 'publishTime': '2020-11-12T00:00:11Z'}}, {'kind': 'youtube#searchResult', 'etag': 'tgeclMvW1vecxPqRbng-xjVo-ks', 'id': {'kind': 'youtube#video', 'videoId': 'HtbfWMudMec'}, 'snippet': {'publishedAt': '2019-11-08T17:30:54Z', 'channelId': 'UCwobzUc3z-0PrFpoRxNszXQ', 'title': 'Tibetan Meditation Music, Meditation, Healing, Sleep, Chakra, Yoga, Spa, Study, Zen, Relax, ☯3626', 'description': 'Tibetan Meditation Music, Meditation, Healing, Sleep, Chakra, Yoga, Spa, Study, Zen, Relax, ☯3626 - Does the sound of healing Tibetan music and Tibetan ...', 'thumbnails': {'default': {'url': 'https://i.ytimg.com/vi/HtbfWMudMec/default.jpg', 'width': 120, 'height': 90}, 'medium': {'url': 'https://i.ytimg.com/vi/HtbfWMudMec/mqdefault.jpg', 'width': 320, 'height': 180}, 'high': {'url': 'https://i.ytimg.com/vi/HtbfWMudMec/hqdefault.jpg', 'width': 480, 'height': 360}}, 'channelTitle': 'Yellow Brick Cinema - Relaxing Music', 'liveBroadcastContent': 'none', 'publishTime': '2019-11-08T17:30:54Z'}}, {'kind': 'youtube#searchResult', 'etag': 'ZukhYUr1Dpex_Nn9jNc22itlGT8', 'id': {'kind': 'youtube#video', 'videoId': 'R2YeZCPK1y8'}, 'snippet': {'publishedAt': '2020-05-07T16:15:12Z', 'channelId': 'UCmQK52xYtdeg7EYiQhqEeZA', 'title': 'Sleep Music, Relaxing Music, Sleep Meditation, Calm Music, Study Music, Sleep, Ambient Music, ☯2023', 'description': 'Sleep Music, Relaxing Music, Sleep Meditation, Calm Music, Study Music, Sleep, Ambient Music, ☯2023 - Are you looking for calming music, relax music or ...', 'thumbnails': {'default': {'url': 'https://i.ytimg.com/vi/R2YeZCPK1y8/default.jpg', 'width': 120, 'height': 90}, 'medium': {'url': 'https://i.ytimg.com/vi/R2YeZCPK1y8/mqdefault.jpg', 'width': 320, 'height': 180}, 'high': {'url': 'https://i.ytimg.com/vi/R2YeZCPK1y8/hqdefault.jpg', 'width': 480, 'height': 360}}, 'channelTitle': 'Body Mind Zone', 'liveBroadcastContent': 'none', 'publishTime': '2020-05-07T16:15:12Z'}}, {'kind': 'youtube#searchResult', 'etag': 'pP-CCb7H6vR5aL-LvifxyJ5XEJU', 'id': {'kind': 'youtube#video', 'videoId': 'Uc_lHPnX76E'}, 'snippet': {'publishedAt': '2020-08-07T01:30:41Z', 'channelId': 'UCb_kshGodseYhLPcDtxWv5w', 'title': 'Beautiful Piano Music : Study music, Focus, Meditation, Relaxing music', 'description': 'Meditation Relax Music presents relaxing and calm piano music you can use as study music, focus or concentration music, background music for any mind and ...', 'thumbnails': {'default': {'url': 'https://i.ytimg.com/vi/Uc_lHPnX76E/default.jpg', 'width': 120, 'height': 90}, 'medium': {'url': 'https://i.ytimg.com/vi/Uc_lHPnX76E/mqdefault.jpg', 'width': 320, 'height': 180}, 'high': {'url': 'https://i.ytimg.com/vi/Uc_lHPnX76E/hqdefault.jpg', 'width': 480, 'height': 360}}, 'channelTitle': 'Meditation Relax Music', 'liveBroadcastContent': 'none', 'publishTime': '2020-08-07T01:30:41Z'}}, {'kind': 'youtube#searchResult', 'etag': 'ZpPl3QShbUuFSvplWncfmeR5D04', 'id': {'kind': 'youtube#video', 'videoId': '2JbEs2zvjZk'}, 'snippet': {'publishedAt': '2020-09-29T22:55:33Z', 'channelId': 'UCKHsXi0fY-mvLAAnLq95PPQ', 'title': 'Smooth Piano JAZZ Music - Gentle Piano JAZZ Playlist For Work, Study and Relax', 'description': '☕ About Lounge Music channel: We are making Jazz Music and Beautiful Bossa Nova Music for relaxation, for work, for study, etc. All music in this video and ...', 'thumbnails': {'default': {'url': 'https://i.ytimg.com/vi/2JbEs2zvjZk/default.jpg', 'width': 120, 'height': 90}, 'medium': {'url': 'https://i.ytimg.com/vi/2JbEs2zvjZk/mqdefault.jpg', 'width': 320, 'height': 180}, 'high': {'url': 'https://i.ytimg.com/vi/2JbEs2zvjZk/hqdefault.jpg', 'width': 480, 'height': 360}}, 'channelTitle': 'Lounge Music', 'liveBroadcastContent': 'none', 'publishTime': '2020-09-29T22:55:33Z'}}, {'kind': 'youtube#searchResult', 'etag': 'zehIo0Hu0YVXqHoS5zBnSiBLehw', 'id': {'kind': 'youtube#video', 'videoId': 'pn2YaKeuIzI'}, 'snippet': {'publishedAt': '2020-06-05T15:55:04Z', 'channelId': 'UCwobzUc3z-0PrFpoRxNszXQ', 'title': 'Relaxing Sleep Music, Calm Music, Sleep Meditation, Healing Music, Yoga, Study Music, Sleep, ☯3703', 'description': 'Relaxing Sleep Music, Calm Music, Sleep Meditation, Healing Music, Yoga, Study Music, Sleep, ☯3703 - Yellow Brick Cinema specialises in providing sleeping ...', 'thumbnails': {'default': {'url': 'https://i.ytimg.com/vi/pn2YaKeuIzI/default.jpg', 'width': 120, 'height': 90}, 'medium': {'url': 'https://i.ytimg.com/vi/pn2YaKeuIzI/mqdefault.jpg', 'width': 320, 'height': 180}, 'high': {'url': 'https://i.ytimg.com/vi/pn2YaKeuIzI/hqdefault.jpg', 'width': 480, 'height': 360}}, 'channelTitle': 'Yellow Brick Cinema - Relaxing Music', 'liveBroadcastContent': 'none', 'publishTime': '2020-06-05T15:55:04Z'}}, {'kind': 'youtube#searchResult', 'etag': 'cqoepmip-Uy03S0tB8oWsYEtzUQ', 'id': {'kind': 'youtube#video', 'videoId': 'HcpLgH_vTX0'}, 'snippet': {'publishedAt': '2019-10-22T16:20:34Z', 'channelId': 'UCmQK52xYtdeg7EYiQhqEeZA', 'title': 'Sleep Music, Sleep Meditation, Calm Music, Sleep Therapy, Insomnia, Spa, Study, Relax, Sleep, ☯1967', 'description': 'Sleep Music, Sleep Meditation, Calm Music, Sleep Therapy, Insomnia, Spa, Study, Relax, Sleep, ☯1967 - Are you looking for calming music, relax music or ...', 'thumbnails': {'default': {'url': 'https://i.ytimg.com/vi/HcpLgH_vTX0/default.jpg', 'width': 120, 'height': 90}, 'medium': {'url': 'https://i.ytimg.com/vi/HcpLgH_vTX0/mqdefault.jpg', 'width': 320, 'height': 180}, 'high': {'url': 'https://i.ytimg.com/vi/HcpLgH_vTX0/hqdefault.jpg', 'width': 480, 'height': 360}}, 'channelTitle': 'Body Mind Zone', 'liveBroadcastContent': 'none', 'publishTime': '2019-10-22T16:20:34Z'}}, {'kind': 'youtube#searchResult', 'etag': 'ZWtlvT0ochcE1Up_JD8zxRWog8s', 'id': {'kind': 'youtube#video', 'videoId': 'fAvw0jkvMEE'}, 'snippet': {'publishedAt': '2021-01-08T14:43:32Z', 'channelId': 'UCwobzUc3z-0PrFpoRxNszXQ', 'title': 'Sleep Music, Insomnia, Sleeping Music, Calm Music, Relaxing Music, Meditation, Study, Sleep, ☯3731', 'description': 'Sleep Music, Insomnia, Sleeping Music, Calm Music, Relaxing Music, Meditation, Study, Sleep, ☯3731 – Yellow Brick Cinema specializes in providing relaxing ...', 'thumbnails': {'default': {'url': 'https://i.ytimg.com/vi/fAvw0jkvMEE/default.jpg', 'width': 120, 'height': 90}, 'medium': {'url': 'https://i.ytimg.com/vi/fAvw0jkvMEE/mqdefault.jpg', 'width': 320, 'height': 180}, 'high': {'url': 'https://i.ytimg.com/vi/fAvw0jkvMEE/hqdefault.jpg', 'width': 480, 'height': 360}}, 'channelTitle': 'Yellow Brick Cinema - Relaxing Music', 'liveBroadcastContent': 'none', 'publishTime': '2021-01-08T14:43:32Z'}}, {'kind': 'youtube#searchResult', 'etag': 'leB_KzGf3tY9MPu7EbQAaOW468Q', 'id': {'kind': 'youtube#video', 'videoId': 'ilXD9rYzWZU'}, 'snippet': {'publishedAt': '2020-11-25T11:27:49Z', 'channelId': 'UC7bX_RrH3zbdp5V4j5umGgw', 'title': 'JAZZ For Work &amp; Study - Instrumental Jazz - Relaxing Piano Café Music for Work, Study and Coffee', 'description': 'Our Jazz Instrumental Music can be used for relaxing, calm, romantic dinner, cooking, work, and relaxation. This relaxing Jazz music best suited for study, work, ...', 'thumbnails': {'default': {'url': 'https://i.ytimg.com/vi/ilXD9rYzWZU/default.jpg', 'width': 120, 'height': 90}, 'medium': {'url': 'https://i.ytimg.com/vi/ilXD9rYzWZU/mqdefault.jpg', 'width': 320, 'height': 180}, 'high': {'url': 'https://i.ytimg.com/vi/ilXD9rYzWZU/hqdefault.jpg', 'width': 480, 'height': 360}}, 'channelTitle': 'Relax Music', 'liveBroadcastContent': 'none', 'publishTime': '2020-11-25T11:27:49Z'}}, {'kind': 'youtube#searchResult', 'etag': '8CM1AAaP711UfbeXmbjqTPYciWk', 'id': {'kind': 'youtube#video', 'videoId': 'hYT3wNZDzzs'}, 'snippet': {'publishedAt': '2020-09-02T20:22:46Z', 'channelId': 'UCKHsXi0fY-mvLAAnLq95PPQ', 'title': 'Wednesday JAZZ - Relaxing  JAZZ &amp; Elegant Bossa Nova For Work,Study,Reading', 'description': '☕ About Lounge Music channel: We are making Jazz Music and Beautiful Bossa Nova Music for relaxation, for work, for study, etc. All music in this video and ...', 'thumbnails': {'default': {'url': 'https://i.ytimg.com/vi/hYT3wNZDzzs/default.jpg', 'width': 120, 'height': 90}, 'medium': {'url': 'https://i.ytimg.com/vi/hYT3wNZDzzs/mqdefault.jpg', 'width': 320, 'height': 180}, 'high': {'url': 'https://i.ytimg.com/vi/hYT3wNZDzzs/hqdefault.jpg', 'width': 480, 'height': 360}}, 'channelTitle': 'Lounge Music', 'liveBroadcastContent': 'none', 'publishTime': '2020-09-02T20:22:46Z'}}, {'kind': 'youtube#searchResult', 'etag': 'sonK6JHYXK6XZ80WecObRope9SA', 'id': {'kind': 'youtube#video', 'videoId': 'Vv25m72_xTA'}, 'snippet': {'publishedAt': '2020-02-13T16:06:12Z', 'channelId': 'UCwobzUc3z-0PrFpoRxNszXQ', 'title': 'Deep Sleep Music, Calm Music, Insomnia, Meditation, Sleep Therapy, Relax, Study, Spa, Sleep,\\xa0☯3653', 'description': 'Deep Sleep Music, Calm Music, Insomnia, Meditation, Sleep Therapy, Relax, Study, Spa, Sleep, ☯3653 - Yellow Brick Cinema specializes in providing sleeping ...', 'thumbnails': {'default': {'url': 'https://i.ytimg.com/vi/Vv25m72_xTA/default.jpg', 'width': 120, 'height': 90}, 'medium': {'url': 'https://i.ytimg.com/vi/Vv25m72_xTA/mqdefault.jpg', 'width': 320, 'height': 180}, 'high': {'url': 'https://i.ytimg.com/vi/Vv25m72_xTA/hqdefault.jpg', 'width': 480, 'height': 360}}, 'channelTitle': 'Yellow Brick Cinema - Relaxing Music', 'liveBroadcastContent': 'none', 'publishTime': '2020-02-13T16:06:12Z'}}, {'kind': 'youtube#searchResult', 'etag': 'bGt_7sodIrUR5ASa5-rdBb7OEvs', 'id': {'kind': 'youtube#video', 'videoId': 'dsjwbQURpMY'}, 'snippet': {'publishedAt': '2020-06-27T15:56:10Z', 'channelId': 'UCmQK52xYtdeg7EYiQhqEeZA', 'title': 'Relaxing Sleep Music, Calm Music, Deep Sleep Music, Meditation Music, Sleep, Study, Insomnia, ☯2030', 'description': 'Relaxing Sleep Music, Calm Music, Deep Sleep Music, Meditation Music, Sleep, Study, Insomnia, ☯2030 - Are you looking for calming music, meditation music, ...', 'thumbnails': {'default': {'url': 'https://i.ytimg.com/vi/dsjwbQURpMY/default.jpg', 'width': 120, 'height': 90}, 'medium': {'url': 'https://i.ytimg.com/vi/dsjwbQURpMY/mqdefault.jpg', 'width': 320, 'height': 180}, 'high': {'url': 'https://i.ytimg.com/vi/dsjwbQURpMY/hqdefault.jpg', 'width': 480, 'height': 360}}, 'channelTitle': 'Body Mind Zone', 'liveBroadcastContent': 'none', 'publishTime': '2020-06-27T15:56:10Z'}}, {'kind': 'youtube#searchResult', 'etag': 'v6VGGMDbmArz-yTAFXTQbooxnJQ', 'id': {'kind': 'youtube#video', 'videoId': '6LU1ojOQWTw'}, 'snippet': {'publishedAt': '2020-09-08T19:31:11Z', 'channelId': 'UC7bX_RrH3zbdp5V4j5umGgw', 'title': 'Tuesday JAZZ - Cafe Background JAZZ Music For Work,Study,Relax', 'description': 'Our Jazz Instrumental Music can be used for relaxing, calm, romantic dinner, cooking, work, and relaxation. This relaxing Jazz music best suited for study, work, ...', 'thumbnails': {'default': {'url': 'https://i.ytimg.com/vi/6LU1ojOQWTw/default.jpg', 'width': 120, 'height': 90}, 'medium': {'url': 'https://i.ytimg.com/vi/6LU1ojOQWTw/mqdefault.jpg', 'width': 320, 'height': 180}, 'high': {'url': 'https://i.ytimg.com/vi/6LU1ojOQWTw/hqdefault.jpg', 'width': 480, 'height': 360}}, 'channelTitle': 'Relax Music', 'liveBroadcastContent': 'none', 'publishTime': '2020-09-08T19:31:11Z'}}, {'kind': 'youtube#searchResult', 'etag': 'vP9qLOuYjkeGYO6zFU8W6qdWBW0', 'id': {'kind': 'youtube#video', 'videoId': '-pyhk9VdLhQ'}, 'snippet': {'publishedAt': '2019-11-04T16:15:56Z', 'channelId': 'UCmQK52xYtdeg7EYiQhqEeZA', 'title': 'Sleep Music, Sleep Meditation, Calm Music, Sleep Therapy, Insomnia, Spa, Study, Relax, Sleep, ☯1970', 'description': 'Sleep Music, Sleep Meditation, Calm Music, Sleep Therapy, Insomnia, Spa, Study, Relax, Sleep, ☯1970 - Are you looking for relaxation music and sleeping ...', 'thumbnails': {'default': {'url': 'https://i.ytimg.com/vi/-pyhk9VdLhQ/default.jpg', 'width': 120, 'height': 90}, 'medium': {'url': 'https://i.ytimg.com/vi/-pyhk9VdLhQ/mqdefault.jpg', 'width': 320, 'height': 180}, 'high': {'url': 'https://i.ytimg.com/vi/-pyhk9VdLhQ/hqdefault.jpg', 'width': 480, 'height': 360}}, 'channelTitle': 'Body Mind Zone', 'liveBroadcastContent': 'none', 'publishTime': '2019-11-04T16:15:56Z'}}, {'kind': 'youtube#searchResult', 'etag': 'UFRd7kJFncTM41dcMQyTJB7I74A', 'id': {'kind': 'youtube#video', 'videoId': '3s3dT0MbCMI'}, 'snippet': {'publishedAt': '2020-09-16T23:13:24Z', 'channelId': 'UC7bX_RrH3zbdp5V4j5umGgw', 'title': 'Wednesday JAZZ - Background Instrumental Cafe JAZZ Playlist For Work and Study', 'description': 'Our Jazz Instrumental Music can be used for relaxing, calm, romantic dinner, cooking, work, and relaxation. This relaxing Jazz music best suited for study, work, ...', 'thumbnails': {'default': {'url': 'https://i.ytimg.com/vi/3s3dT0MbCMI/default.jpg', 'width': 120, 'height': 90}, 'medium': {'url': 'https://i.ytimg.com/vi/3s3dT0MbCMI/mqdefault.jpg', 'width': 320, 'height': 180}, 'high': {'url': 'https://i.ytimg.com/vi/3s3dT0MbCMI/hqdefault.jpg', 'width': 480, 'height': 360}}, 'channelTitle': 'Relax Music', 'liveBroadcastContent': 'none', 'publishTime': '2020-09-16T23:13:24Z'}}, {'kind': 'youtube#searchResult', 'etag': 'k3Cgx3Vl3AIlneoddlKmagM94LM', 'id': {'kind': 'youtube#video', 'videoId': 'SQ-XywbtJaE'}, 'snippet': {'publishedAt': '2020-12-01T01:19:58Z', 'channelId': 'UCKHsXi0fY-mvLAAnLq95PPQ', 'title': 'Happy JAZZ - Joyful Coffee JAZZ For Morning, Study, Work: Lounge Music', 'description': '☕ About Lounge Music channel: We are making Jazz Music and Beautiful Bossa Nova Music for relaxation, for work, for study, etc. All music in this video and ...', 'thumbnails': {'default': {'url': 'https://i.ytimg.com/vi/SQ-XywbtJaE/default.jpg', 'width': 120, 'height': 90}, 'medium': {'url': 'https://i.ytimg.com/vi/SQ-XywbtJaE/mqdefault.jpg', 'width': 320, 'height': 180}, 'high': {'url': 'https://i.ytimg.com/vi/SQ-XywbtJaE/hqdefault.jpg', 'width': 480, 'height': 360}}, 'channelTitle': 'Lounge Music', 'liveBroadcastContent': 'none', 'publishTime': '2020-12-01T01:19:58Z'}}, {'kind': 'youtube#searchResult', 'etag': '6MPpw-0epofDkLAKgbUh6yKtfJ4', 'id': {'kind': 'youtube#video', 'videoId': 'TgQUA1GdjZg'}, 'snippet': {'publishedAt': '2020-12-01T01:35:01Z', 'channelId': 'UCQs1Jb6bm780rAEhroI6sGw', 'title': 'Disney RELAXING PIANO Collection - Sleep Music, Study Music, Calm Music', 'description': 'Music can be magic and powerful, managing to touch our emotions. Music can connect with others such as our culture and our language. We realize something ...', 'thumbnails': {'default': {'url': 'https://i.ytimg.com/vi/TgQUA1GdjZg/default.jpg', 'width': 120, 'height': 90}, 'medium': {'url': 'https://i.ytimg.com/vi/TgQUA1GdjZg/mqdefault.jpg', 'width': 320, 'height': 180}, 'high': {'url': 'https://i.ytimg.com/vi/TgQUA1GdjZg/hqdefault.jpg', 'width': 480, 'height': 360}}, 'channelTitle': 'Cafe Music.', 'liveBroadcastContent': 'none', 'publishTime': '2020-12-01T01:35:01Z'}}, {'kind': 'youtube#searchResult', 'etag': 'ctTxUD_tQIbod_0wG5iwcR30tFc', 'id': {'kind': 'youtube#video', 'videoId': '2TUQtyQOBXU'}, 'snippet': {'publishedAt': '2020-07-31T14:41:34Z', 'channelId': 'UCwobzUc3z-0PrFpoRxNszXQ', 'title': 'Relaxing Sleep Music, Healing Music, Calm Music, Yoga, Sleep Meditation, Study Music, Sleep, ☯3712', 'description': 'Relaxing Sleep Music, Healing Music, Calm Music, Yoga, Sleep Meditation, Study Music, Sleep, ☯3712 – Yellow Brick Cinema specializes in providing relaxing ...', 'thumbnails': {'default': {'url': 'https://i.ytimg.com/vi/2TUQtyQOBXU/default.jpg', 'width': 120, 'height': 90}, 'medium': {'url': 'https://i.ytimg.com/vi/2TUQtyQOBXU/mqdefault.jpg', 'width': 320, 'height': 180}, 'high': {'url': 'https://i.ytimg.com/vi/2TUQtyQOBXU/hqdefault.jpg', 'width': 480, 'height': 360}}, 'channelTitle': 'Yellow Brick Cinema - Relaxing Music', 'liveBroadcastContent': 'none', 'publishTime': '2020-07-31T14:41:34Z'}}, {'kind': 'youtube#searchResult', 'etag': 'pb41S3x2WBxws7Vd6TriLwuR5Zs', 'id': {'kind': 'youtube#video', 'videoId': 'WHCSL87T_1U'}, 'snippet': {'publishedAt': '2020-08-31T16:24:21Z', 'channelId': 'UCMgbYmq6I5zcQUiCN-k_pFA', 'title': 'Bible Study || 31st August  2020 || Dr JohnWesly Live Message', 'description': 'JohnWesly #BlessieWesly #Biblestudy Welcome to John Wesly International Ministries and John Wesly Foundation. God has anointed Man of God, John Wesly ...', 'thumbnails': {'default': {'url': 'https://i.ytimg.com/vi/WHCSL87T_1U/default.jpg', 'width': 120, 'height': 90}, 'medium': {'url': 'https://i.ytimg.com/vi/WHCSL87T_1U/mqdefault.jpg', 'width': 320, 'height': 180}, 'high': {'url': 'https://i.ytimg.com/vi/WHCSL87T_1U/hqdefault.jpg', 'width': 480, 'height': 360}}, 'channelTitle': 'John Wesly Ministries', 'liveBroadcastContent': 'none', 'publishTime': '2020-08-31T16:24:21Z'}}]}\n"
     ]
    }
   ],
   "source": [
    "print(response)"
   ]
  },
  {
   "cell_type": "code",
   "execution_count": null,
   "id": "roman-registration",
   "metadata": {},
   "outputs": [],
   "source": []
  }
 ],
 "metadata": {
  "kernelspec": {
   "display_name": "Python 3",
   "language": "python",
   "name": "python3"
  },
  "language_info": {
   "codemirror_mode": {
    "name": "ipython",
    "version": 3
   },
   "file_extension": ".py",
   "mimetype": "text/x-python",
   "name": "python",
   "nbconvert_exporter": "python",
   "pygments_lexer": "ipython3",
   "version": "3.8.1"
  }
 },
 "nbformat": 4,
 "nbformat_minor": 5
}
